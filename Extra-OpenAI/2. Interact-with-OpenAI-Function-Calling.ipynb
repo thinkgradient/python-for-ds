{
 "cells": [
  {
   "cell_type": "markdown",
   "id": "3de90f8d",
   "metadata": {},
   "source": [
    "## Interacting with Azure Open AI API"
   ]
  },
  {
   "cell_type": "code",
   "execution_count": 1,
   "id": "bcf01b35",
   "metadata": {},
   "outputs": [],
   "source": [
    "import openai\n",
    "import json\n",
    "import os\n",
    "from dotenv import load_dotenv\n"
   ]
  },
  {
   "cell_type": "code",
   "execution_count": 2,
   "id": "d12d189f",
   "metadata": {},
   "outputs": [
    {
     "data": {
      "text/plain": [
       "True"
      ]
     },
     "execution_count": 2,
     "metadata": {},
     "output_type": "execute_result"
    }
   ],
   "source": [
    "load_dotenv(\"openai.env\")\n"
   ]
  },
  {
   "cell_type": "code",
   "execution_count": 3,
   "id": "e9cbcb59",
   "metadata": {},
   "outputs": [],
   "source": [
    "import os\n",
    "from openai import AzureOpenAI\n",
    "    \n",
    "client = AzureOpenAI(\n",
    "    api_key=os.getenv(\"OPENAI_API_KEY\") , \n",
    "    api_version=os.getenv(\"OPENAI_API_VERSION\"),\n",
    "    azure_endpoint=os.getenv(\"OPENAI_API_BASE\") \n",
    ")"
   ]
  },
  {
   "cell_type": "code",
   "execution_count": 22,
   "id": "896c4839",
   "metadata": {},
   "outputs": [],
   "source": [
    "msgs = [\n",
    "        {\"role\": \"system\", \"content\": \"\"\"You are an AI chatbot built by Vodafone. You can questions on scheduling appointments.\"\"\"},\n",
    "        {\"role\": \"user\", \"content\": \"what's 2 + 5\"}\n",
    "    ]"
   ]
  },
  {
   "cell_type": "code",
   "execution_count": 25,
   "id": "24f0205e",
   "metadata": {},
   "outputs": [],
   "source": [
    "tools = [\n",
    "    {\n",
    "        \"type\": \"function\",\n",
    "        \"function\":\n",
    "        {\n",
    "            \"name\": \"stop\",\n",
    "            \"description\": \"This function gracefully concludes an interaction.\",\n",
    "            \"parameters\":\n",
    "            {\n",
    "                \"type\": \"object\",\n",
    "                \"properties\":\n",
    "                {\n",
    "                    \"arrangeAppointment\":\n",
    "                    {\n",
    "                        \"type\": \"string\",\n",
    "                        \"description\": \"Accepts either canceling or rescheduling an appointment.\",\n",
    "                        \"enum\": [\"cancelAppointment\", \"rescheduleAppointment\", \"keepAppointment\"]\n",
    "                    }\n",
    "                },\n",
    "                \"required\":\n",
    "                []\n",
    "            }\n",
    "        }\n",
    "    },\n",
    "    {\n",
    "        \"type\":\"function\",\n",
    "        \"function\":\n",
    "        {\n",
    "            \"name\": \"addNumbers\",\n",
    "            \"description\": \"This function adds two numbers\",\n",
    "            \"parameters\":\n",
    "            {\n",
    "                \"type\": \"object\",\n",
    "                \"properties\":\n",
    "                {\n",
    "                    \"x\":\n",
    "                    {\n",
    "                        \"type\": \"number\",\n",
    "                        \"description\": \"first number to be added\"\n",
    "                    },\n",
    "                    \"y\":\n",
    "                    {\n",
    "                        \"type\": \"number\",\n",
    "                        \"description\": \"second number to be added\"\n",
    "                    }\n",
    "                }\n",
    "            }\n",
    "        }\n",
    "    }\n",
    "    \n",
    "]"
   ]
  },
  {
   "cell_type": "code",
   "execution_count": 26,
   "id": "7ddbb9b9",
   "metadata": {},
   "outputs": [],
   "source": [
    "chat_completion = client.chat.completions.create(\n",
    "    model=\"gpt-4-Turbo\", # model = \"deployment_name\".\n",
    "    messages=msgs,\n",
    "    temperature=0,\n",
    "    top_p=0.95,\n",
    "    presence_penalty=0,\n",
    "    frequency_penalty=0,\n",
    "    tools=tools\n",
    ")"
   ]
  },
  {
   "cell_type": "code",
   "execution_count": null,
   "id": "a9020892",
   "metadata": {},
   "outputs": [],
   "source": [
    "chat_completion"
   ]
  },
  {
   "cell_type": "code",
   "execution_count": 27,
   "id": "052b2f90",
   "metadata": {},
   "outputs": [
    {
     "data": {
      "text/plain": [
       "{'content': None,\n",
       " 'role': 'assistant',\n",
       " 'function_call': None,\n",
       " 'tool_calls': [{'id': 'call_IV2ZCEzAKd2LXz8LUJZGGqb5',\n",
       "   'function': {'arguments': '{\"x\":2,\"y\":5}', 'name': 'addNumbers'},\n",
       "   'type': 'function'}]}"
      ]
     },
     "execution_count": 27,
     "metadata": {},
     "output_type": "execute_result"
    }
   ],
   "source": [
    "json.loads(chat_completion.model_dump_json(indent=2))['choices'][0]['message']"
   ]
  },
  {
   "cell_type": "code",
   "execution_count": 29,
   "id": "dd7e51b4",
   "metadata": {},
   "outputs": [],
   "source": [
    "response_message = chat_completion.choices[0].message\n",
    "tool_calls = response_message.tool_calls\n"
   ]
  },
  {
   "cell_type": "code",
   "execution_count": 30,
   "id": "88924911",
   "metadata": {},
   "outputs": [
    {
     "data": {
      "text/plain": [
       "[ChatCompletionMessageToolCall(id='call_IV2ZCEzAKd2LXz8LUJZGGqb5', function=Function(arguments='{\"x\":2,\"y\":5}', name='addNumbers'), type='function')]"
      ]
     },
     "execution_count": 30,
     "metadata": {},
     "output_type": "execute_result"
    }
   ],
   "source": [
    "tool_calls"
   ]
  },
  {
   "cell_type": "code",
   "execution_count": 31,
   "id": "2149bf45",
   "metadata": {},
   "outputs": [],
   "source": [
    "def addNumbers(a, b):\n",
    "    return a+b"
   ]
  },
  {
   "cell_type": "code",
   "execution_count": 32,
   "id": "ac64ef13",
   "metadata": {},
   "outputs": [],
   "source": [
    "available_functions = {\n",
    "            \"addNumbers\": addNumbers,\n",
    "        } "
   ]
  },
  {
   "cell_type": "code",
   "execution_count": 33,
   "id": "f558093a",
   "metadata": {},
   "outputs": [
    {
     "name": "stdout",
     "output_type": "stream",
     "text": [
      "addNumbers\n"
     ]
    }
   ],
   "source": [
    "for tool_call in tool_calls:\n",
    "    function_name = tool_call.function.name\n",
    "    print(function_name)\n",
    "    function_to_call = available_functions[function_name]\n",
    "    function_args = json.loads(tool_call.function.arguments)\n",
    "    function_response = function_to_call(\n",
    "        a=function_args.get(\"x\"),\n",
    "        b=function_args.get(\"y\"),\n",
    "    )"
   ]
  },
  {
   "cell_type": "code",
   "execution_count": 34,
   "id": "fb43f964",
   "metadata": {},
   "outputs": [
    {
     "data": {
      "text/plain": [
       "7"
      ]
     },
     "execution_count": 34,
     "metadata": {},
     "output_type": "execute_result"
    }
   ],
   "source": [
    "function_response"
   ]
  },
  {
   "cell_type": "code",
   "execution_count": null,
   "id": "e49f20c9",
   "metadata": {},
   "outputs": [],
   "source": []
  }
 ],
 "metadata": {
  "kernelspec": {
   "display_name": "Python 3 (ipykernel)",
   "language": "python",
   "name": "python3"
  },
  "language_info": {
   "codemirror_mode": {
    "name": "ipython",
    "version": 3
   },
   "file_extension": ".py",
   "mimetype": "text/x-python",
   "name": "python",
   "nbconvert_exporter": "python",
   "pygments_lexer": "ipython3",
   "version": "3.11.4"
  }
 },
 "nbformat": 4,
 "nbformat_minor": 5
}
