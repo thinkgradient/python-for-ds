{
 "cells": [
  {
   "cell_type": "markdown",
   "id": "3de90f8d",
   "metadata": {},
   "source": [
    "## Interacting with Azure Open AI API"
   ]
  },
  {
   "cell_type": "code",
   "execution_count": null,
   "id": "bcf01b35",
   "metadata": {},
   "outputs": [],
   "source": [
    "import openai\n",
    "import json\n",
    "import os\n",
    "from dotenv import load_dotenv\n"
   ]
  },
  {
   "cell_type": "code",
   "execution_count": null,
   "id": "d12d189f",
   "metadata": {},
   "outputs": [],
   "source": [
    "load_dotenv(\"openai.env\")\n"
   ]
  },
  {
   "cell_type": "code",
   "execution_count": null,
   "id": "e9cbcb59",
   "metadata": {},
   "outputs": [],
   "source": [
    "import os\n",
    "from openai import AzureOpenAI\n",
    "    \n",
    "client = AzureOpenAI(\n",
    "    api_key=os.getenv(\"OPENAI_API_KEY\") , \n",
    "    api_version=os.getenv(\"OPENAI_API_VERSION\"),\n",
    "    azure_endpoint=os.getenv(\"OPENAI_API_BASE\") \n",
    ")"
   ]
  },
  {
   "cell_type": "code",
   "execution_count": null,
   "id": "896c4839",
   "metadata": {},
   "outputs": [],
   "source": [
    "msgs = [\n",
    "        {\"role\": \"system\", \"content\": \"\"\"You are an AI chatbot built by Inchcape. You can answer any question car offers.\"\"\"},\n",
    "        {\"role\": \"user\", \"content\": \"What are some Toyota models?\"}\n",
    "    ]"
   ]
  },
  {
   "cell_type": "code",
   "execution_count": null,
   "id": "7ddbb9b9",
   "metadata": {},
   "outputs": [],
   "source": [
    "chat_completion = client.chat.completions.create(\n",
    "    model=\"gpt-4-Turbo\", # model = \"deployment_name\".\n",
    "    messages=msgs,\n",
    "    temperature=0,\n",
    "    top_p=0.95,\n",
    "    presence_penalty=0,\n",
    "    frequency_penalty=0\n",
    ")"
   ]
  },
  {
   "cell_type": "code",
   "execution_count": null,
   "id": "052b2f90",
   "metadata": {},
   "outputs": [],
   "source": [
    "json.loads(chat_completion.model_dump_json(indent=2))['choices'][0]['message']['content']"
   ]
  },
  {
   "cell_type": "code",
   "execution_count": null,
   "id": "dd7e51b4",
   "metadata": {},
   "outputs": [],
   "source": []
  }
 ],
 "metadata": {
  "kernelspec": {
   "display_name": "Python 3 (ipykernel)",
   "language": "python",
   "name": "python3"
  },
  "language_info": {
   "codemirror_mode": {
    "name": "ipython",
    "version": 3
   },
   "file_extension": ".py",
   "mimetype": "text/x-python",
   "name": "python",
   "nbconvert_exporter": "python",
   "pygments_lexer": "ipython3",
   "version": "3.11.4"
  }
 },
 "nbformat": 4,
 "nbformat_minor": 5
}
