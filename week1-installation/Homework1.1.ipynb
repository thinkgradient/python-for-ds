{
 "cells": [
  {
   "cell_type": "markdown",
   "id": "80cf244b",
   "metadata": {},
   "source": [
    "# Homework 1.1 - Hello World"
   ]
  },
  {
   "cell_type": "markdown",
   "id": "4618b1f8",
   "metadata": {},
   "source": [
    "A \"Hello, World!\" program generally is a computer program that outputs or displays the message \"Hello, World!\"- it is often used to illustrate the basic syntax of a programming language. \n",
    "\n",
    "It is often the first program written by people learning to code and that's exactly how we'll use it throughout this notebook!"
   ]
  },
  {
   "cell_type": "markdown",
   "id": "bb3557a0",
   "metadata": {},
   "source": [
    "## The Python Syntax"
   ]
  },
  {
   "cell_type": "markdown",
   "id": "c8f59f5e",
   "metadata": {},
   "source": [
    "Python follows many of the syntax rules of other programming languages such as Java or C, however there are a few differences. In this section we'll work through the syntax of types, defining variables as well as best practices."
   ]
  },
  {
   "cell_type": "markdown",
   "id": "e64feb01",
   "metadata": {},
   "source": [
    "### Data types"
   ]
  },
  {
   "cell_type": "markdown",
   "id": "42b3d027",
   "metadata": {},
   "source": [
    "Python has a variety of variable types ranging from a string to an integer. We'll use the examples below to explore them!"
   ]
  },
  {
   "cell_type": "code",
   "execution_count": 1,
   "id": "8a7656a0",
   "metadata": {},
   "outputs": [
    {
     "data": {
      "text/plain": [
       "str"
      ]
     },
     "execution_count": 1,
     "metadata": {},
     "output_type": "execute_result"
    }
   ],
   "source": [
    "type(\"a\")"
   ]
  },
  {
   "cell_type": "code",
   "execution_count": 2,
   "id": "66ae1266",
   "metadata": {},
   "outputs": [
    {
     "data": {
      "text/plain": [
       "str"
      ]
     },
     "execution_count": 2,
     "metadata": {},
     "output_type": "execute_result"
    }
   ],
   "source": [
    "type(\"a4\")"
   ]
  },
  {
   "cell_type": "code",
   "execution_count": 3,
   "id": "bf638d1a",
   "metadata": {},
   "outputs": [
    {
     "data": {
      "text/plain": [
       "int"
      ]
     },
     "execution_count": 3,
     "metadata": {},
     "output_type": "execute_result"
    }
   ],
   "source": [
    "type(4)"
   ]
  },
  {
   "cell_type": "code",
   "execution_count": 4,
   "id": "517fb2b3",
   "metadata": {},
   "outputs": [
    {
     "data": {
      "text/plain": [
       "float"
      ]
     },
     "execution_count": 4,
     "metadata": {},
     "output_type": "execute_result"
    }
   ],
   "source": [
    "type(4.2)"
   ]
  },
  {
   "cell_type": "code",
   "execution_count": 5,
   "id": "3c4a8eea",
   "metadata": {},
   "outputs": [
    {
     "data": {
      "text/plain": [
       "bool"
      ]
     },
     "execution_count": 5,
     "metadata": {},
     "output_type": "execute_result"
    }
   ],
   "source": [
    "type(True)"
   ]
  },
  {
   "cell_type": "markdown",
   "id": "be3e1453",
   "metadata": {},
   "source": [
    "As shown by the examples above, to find the type of something we can call the ```type(<argument>)``` function on it.\n",
    "\n",
    "Python has many different data types but, for the purpose of this course, we'll stick to the following:\n",
    "\n",
    "* Text Type: str\n",
    "* Numeric Types: int & float\n",
    "* Boolean Type: bool"
   ]
  },
  {
   "cell_type": "markdown",
   "id": "f8cd8213",
   "metadata": {},
   "source": [
    "### Operators"
   ]
  },
  {
   "cell_type": "markdown",
   "id": "8f764833",
   "metadata": {},
   "source": [
    "An operator is a character that instructs the Python compiler to perform some special operation. For example:\n",
    "\n",
    "* The opening and closing parentheses ```()``` are function invocation operators (when placed to the right of a function name).\n",
    "* The equal sign ```=``` is the assignment operator, used to assign a value to a variable.\n",
    "* The plus sign ```+``` is the string concatenation operator. As you'll see in the next unit, it's also the addition operator when you're working with numbers.\n",
    "* The number sign ```#``` is the comment operator, which instructs the compiler to ignore all code or text that comes after it on a line of a code file. We'll explore this later in this notebook.\n",
    "\n",
    "Python has dozens of operators that perform mathematical, logical, and relational operations in your code."
   ]
  },
  {
   "cell_type": "markdown",
   "id": "fe97f378",
   "metadata": {},
   "source": [
    "### Variables"
   ]
  },
  {
   "cell_type": "markdown",
   "id": "125c08cb",
   "metadata": {},
   "source": [
    "Next, we'll take a look at variables - a variable being a named unit of data that is assigned a value. We can call variables to access the data that is assigned to it. We'll explore the declaration of variable as well as the best practices around using them."
   ]
  },
  {
   "cell_type": "code",
   "execution_count": 6,
   "id": "ade054cf",
   "metadata": {},
   "outputs": [
    {
     "data": {
      "text/plain": [
       "int"
      ]
     },
     "execution_count": 6,
     "metadata": {},
     "output_type": "execute_result"
    }
   ],
   "source": [
    "my_age = 19\n",
    "type(my_age)"
   ]
  },
  {
   "cell_type": "markdown",
   "id": "5002313d",
   "metadata": {},
   "source": [
    "As shown above, we have assigned the value of ```19``` to a variable called ```my_age```. Unlike some other programming languages, Python uses dynamic typing meaning we don't need to specify our data type before the variable instantiation e.g. ```int my_age = 19```\n",
    "\n",
    "A couple of notes for best practice here - be sure to always name your variables something relevant and memorable (my_age is more intuative than num!) & common practice is to define variable names either using camel case or using ```_``` between words."
   ]
  },
  {
   "cell_type": "code",
   "execution_count": 7,
   "id": "589297ca",
   "metadata": {},
   "outputs": [
    {
     "name": "stdout",
     "output_type": "stream",
     "text": [
      "19\n"
     ]
    }
   ],
   "source": [
    "my_age = 19\n",
    "your_age = my_age\n",
    "print(your_age)"
   ]
  },
  {
   "cell_type": "markdown",
   "id": "96995ed1",
   "metadata": {},
   "source": [
    "New varibles can be declared using the values of other variables without having any impact on the value. See the example above to see how we can declare a variable using the value of another!"
   ]
  },
  {
   "cell_type": "markdown",
   "id": "a47f17ea",
   "metadata": {},
   "source": [
    "#### Constants"
   ]
  },
  {
   "cell_type": "markdown",
   "id": "c39fbe24",
   "metadata": {},
   "source": [
    "A constant is like a variable but its values won’t change during the program. Constants are instantiated at the top of the program in capital letters like below:"
   ]
  },
  {
   "cell_type": "code",
   "execution_count": 8,
   "id": "fa7ad948",
   "metadata": {},
   "outputs": [
    {
     "name": "stdout",
     "output_type": "stream",
     "text": [
      "50.24\n"
     ]
    }
   ],
   "source": [
    "PI = 3.14 # Constant definition\n",
    "\n",
    "radius = 4\n",
    "area = PI * (radius ** 2) # ** is the operator for 'to the power of'\n",
    "print(area)"
   ]
  },
  {
   "cell_type": "markdown",
   "id": "73e912e3",
   "metadata": {},
   "source": [
    "### Comments"
   ]
  },
  {
   "cell_type": "markdown",
   "id": "5d096470",
   "metadata": {},
   "source": [
    "One of the most important things in programming, is ensuring your code is clear and easy to understand - the tip earlier about well named variables is one way to aid this. Here, we'll look at another way to improve code readability - using comments!\n",
    "\n",
    "Comments are a vital way to help explain your code to others in your team or even yourself when you come back to old code. They can be used to explain individual functions (sections of code with a particular functionality) or just a single line where it may be difficult to see what is going on underneath the hood."
   ]
  },
  {
   "cell_type": "code",
   "execution_count": null,
   "id": "013cf774",
   "metadata": {},
   "outputs": [],
   "source": [
    "my_age = 19 #Assigning the value 19 to the variable `my_age`"
   ]
  },
  {
   "cell_type": "markdown",
   "id": "c436aec2",
   "metadata": {},
   "source": [
    "Yes the above example is borderline redundant, however it emphasises the point of how comments can be used to aid understanding of code. If you struggle to explain your code with a simple comment, you may need to re-evaluate and simplify it."
   ]
  },
  {
   "cell_type": "markdown",
   "id": "176456e8",
   "metadata": {},
   "source": [
    "### Input / Output"
   ]
  },
  {
   "cell_type": "markdown",
   "id": "3fbf47bd",
   "metadata": {},
   "source": [
    "Often, programs interact with the user through either writing something to the terminal or asking for an input. We'll be looking at the way to ingest an input from the console and then printing it back.\n",
    "\n",
    "The ```print()``` function is used to output thigns to the console and has been teased a few times over the course of the first couple of notebooks, but this time we'll walkthrough using it!"
   ]
  },
  {
   "cell_type": "code",
   "execution_count": 9,
   "id": "d139a32f",
   "metadata": {},
   "outputs": [
    {
     "name": "stdout",
     "output_type": "stream",
     "text": [
      "This will be printed below\n"
     ]
    }
   ],
   "source": [
    "print(\"This will be printed below\")"
   ]
  },
  {
   "cell_type": "code",
   "execution_count": 10,
   "id": "a00cb64e",
   "metadata": {
    "scrolled": true
   },
   "outputs": [
    {
     "name": "stdout",
     "output_type": "stream",
     "text": [
      "4\n"
     ]
    }
   ],
   "source": [
    "print(4)"
   ]
  },
  {
   "cell_type": "markdown",
   "id": "e773cde0",
   "metadata": {},
   "source": [
    "The print function outputs the argument to the console, it can print integers, float, strings etc."
   ]
  },
  {
   "cell_type": "markdown",
   "id": "f8dc62f9",
   "metadata": {},
   "source": [
    "As for passing in an input into a Python program, that can be done using the ```input()``` function - as shown below!"
   ]
  },
  {
   "cell_type": "code",
   "execution_count": 11,
   "id": "c21d13d7",
   "metadata": {},
   "outputs": [
    {
     "name": "stdout",
     "output_type": "stream",
     "text": [
      "Whats your age?\n",
      "43\n"
     ]
    }
   ],
   "source": [
    "print(\"Whats your age?\")\n",
    "user_age = input()"
   ]
  },
  {
   "cell_type": "code",
   "execution_count": 12,
   "id": "613e506f",
   "metadata": {},
   "outputs": [
    {
     "name": "stdout",
     "output_type": "stream",
     "text": [
      "43\n"
     ]
    }
   ],
   "source": [
    "print(user_age)"
   ]
  },
  {
   "cell_type": "code",
   "execution_count": 13,
   "id": "b0d39298",
   "metadata": {},
   "outputs": [
    {
     "name": "stdout",
     "output_type": "stream",
     "text": [
      "Please input a random number!135\n"
     ]
    }
   ],
   "source": [
    "number = input(\"Please input a random number!\") #Asks the user for a number and saves it in the variable named number"
   ]
  },
  {
   "cell_type": "markdown",
   "id": "53b2ac18",
   "metadata": {},
   "source": [
    "That draws us to a close for the basics - the next notebook will build upon the material learnt here."
   ]
  }
 ],
 "metadata": {
  "kernelspec": {
   "display_name": "Python 3 (ipykernel)",
   "language": "python",
   "name": "python3"
  },
  "language_info": {
   "codemirror_mode": {
    "name": "ipython",
    "version": 3
   },
   "file_extension": ".py",
   "mimetype": "text/x-python",
   "name": "python",
   "nbconvert_exporter": "python",
   "pygments_lexer": "ipython3",
   "version": "3.11.4"
  }
 },
 "nbformat": 4,
 "nbformat_minor": 5
}
