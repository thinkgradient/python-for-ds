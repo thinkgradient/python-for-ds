{
 "cells": [
  {
   "cell_type": "markdown",
   "metadata": {},
   "source": [
    "# Homework 2.2 - Using Python (.py) files to run code"
   ]
  },
  {
   "cell_type": "markdown",
   "metadata": {},
   "source": [
    "### The decision to use notebooks or .py files\n",
    "\n",
    "Jupyter Notebooks and `.py` files serve different purposes and have distinct advantages:\n",
    "\n",
    "* **Jupyter Notebooks** are interactive and allow for a mix of code, text, and multimedia. They are excellent for data exploration, visualisation, and sharing results. Each cell in a notebook can be run independently, and the output is displayed immediately beneath the cell. This makes it easy to iterate on specific parts of your code without rerunning the entire script. Notebooks also support markdown, enabling you to create rich, well-documented reports that combine your code, findings, and explanations.\n",
    "\n",
    "* On the flip side, **.py files** are text-based files that contain pure Python code. They are typically used for building larger applications, libraries, or scripts. `.py` files are more suitable for production use and version control and, unlike notebooks, `.py` files don't allow for interactive outputs or mixing code with extensive markdown text.\n",
    "\n",
    "While notebooks are great for interactive, exploratory analysis and teaching, `.py` files are better suited for building reusable code, larger projects, and production-ready software."
   ]
  },
  {
   "cell_type": "markdown",
   "metadata": {},
   "source": [
    "### How to use `.py` files\n",
    "\n",
    "When using `.py` files, it's important to adhere to certain best practices to ensure your code is clean, efficient, and easy to understand.\n",
    "\n",
    "**Imports**: Always import packages and modules at the beginning of your file. This makes it easy to see what dependencies a module has. Follow the order: standard library imports, related third party imports, and local application/library specific imports. Each group should have its own block separated by a blank line.\n",
    "\n",
    "**Docstrings**: Docstrings are used for documentation of functions, methods, and classes. They are enclosed in triple quotes (\"\"\") and are located immediately after the definition of a function, method, or class. A good docstring should explain what the function does, its inputs, its outputs, and any exceptions it raises.\n",
    "\n",
    "**Code comments**: Comments are an integral part of code documentation and are used to explain the purpose and functionality of sections of code. In Python, comments are created by starting a line with the `#` symbol.\n",
    "\n",
    "**Running Code on CMD Line**: To run a `.py` file from the command line, navigate to the directory containing the file and use the command `python filename.py`.\n",
    "\n",
    "Remember, consistency and readability are key. Following these best practices will make your code easier to read, maintain, and debug. It's also recommended to follow the PEP 8 style guide for Python code."
   ]
  },
  {
   "cell_type": "markdown",
   "metadata": {},
   "source": [
    "### Homework challenge\n",
    "\n",
    "This week's homework will lay the foundations for the capstone project in week 3. One of the most common datasets in the machine learning space is the Iris dataset. The Iris dataset is a collection of 150 measurements of three species of iris flowers: setosa, versicolor, and virginica. Each measurement includes the length and width of the sepal and petal of a flower in centimeters. The dataset is widely used as an example of multivariate analysis and machine learning techniques.\n",
    "\n",
    "Your task is to perform some exploratory data analysis on the Iris dataset, perhaps exploring the relationship between each feature and creating relevant plots to help tell the story! How you choose to interrogate the data is up to you; use the previous notebook to help you decide on the different ways you could!\n",
    "\n",
    "The following code cell will create a new `.py` file with the base code needed to load in the dataset to a Pandas DataFrame - feel free to run it, create your own file or continue in a notebook... what you feel most comfortable doing. Happy analysing!\n"
   ]
  },
  {
   "cell_type": "code",
   "execution_count": 1,
   "metadata": {},
   "outputs": [
    {
     "name": "stdout",
     "output_type": "stream",
     "text": [
      "Overwriting iris_eda.py\n"
     ]
    }
   ],
   "source": [
    "%%writefile iris_eda.py\n",
    "import pandas as pd\n",
    "import numpy as np\n",
    "import matplotlib.pyplot as plt\n",
    "\n",
    "raw_data = pd.read_csv('https://gist.githubusercontent.com/curran/a08a1080b88344b0c8a7/raw/0e7a9b0a5d22642a06d3d5b9bcbad9890c8ee534/iris.csv') # Read data from URL\n",
    "\n",
    "print(raw_data.head()) # print first 5 rows of data\n"
   ]
  },
  {
   "cell_type": "code",
   "execution_count": 8,
   "metadata": {},
   "outputs": [
    {
     "name": "stdout",
     "output_type": "stream",
     "text": [
      "   sepal_length  sepal_width  petal_length  petal_width species\n",
      "0           5.1          3.5           1.4          0.2  setosa\n",
      "1           4.9          3.0           1.4          0.2  setosa\n",
      "2           4.7          3.2           1.3          0.2  setosa\n",
      "3           4.6          3.1           1.5          0.2  setosa\n",
      "4           5.0          3.6           1.4          0.2  setosa\n"
     ]
    }
   ],
   "source": [
    "!python iris_eda.py"
   ]
  },
  {
   "cell_type": "code",
   "execution_count": null,
   "metadata": {},
   "outputs": [],
   "source": []
  }
 ],
 "metadata": {
  "kernelspec": {
   "display_name": "Python 3 (ipykernel)",
   "language": "python",
   "name": "python3"
  },
  "language_info": {
   "codemirror_mode": {
    "name": "ipython",
    "version": 3
   },
   "file_extension": ".py",
   "mimetype": "text/x-python",
   "name": "python",
   "nbconvert_exporter": "python",
   "pygments_lexer": "ipython3",
   "version": "3.11.4"
  }
 },
 "nbformat": 4,
 "nbformat_minor": 2
}
