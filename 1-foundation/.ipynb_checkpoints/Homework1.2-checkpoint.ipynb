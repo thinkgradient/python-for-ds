{
 "cells": [
  {
   "cell_type": "markdown",
   "id": "f0b2f387",
   "metadata": {},
   "source": [
    "# Homework 1.2 - String concatenation, type casting & functions"
   ]
  },
  {
   "cell_type": "markdown",
   "id": "29fbf71d",
   "metadata": {},
   "source": [
    "In this notebook we'll now look at combining a few of the features we looked at in the previous notebook so that we can handle numbers correctly. We'll also explore concatenating strings together using the ```+``` operator. Function calling, looping and conditional statements will also be covered. At the end a small challenge will be set, feel free to have a crack if you want to test your skills thus far!"
   ]
  },
  {
   "cell_type": "markdown",
   "id": "07511ea9",
   "metadata": {},
   "source": [
    "## String concatenation "
   ]
  },
  {
   "cell_type": "markdown",
   "id": "bf78c2a1",
   "metadata": {},
   "source": [
    "Building on the foundations of the last notebook, let's look at how we can use are inputs and concatenate them with other strings. If you remember from the start of the notebook, we briefly brushed over the ```+``` operator which will allow us to do this."
   ]
  },
  {
   "cell_type": "code",
   "execution_count": 1,
   "id": "355dd642",
   "metadata": {
    "scrolled": true
   },
   "outputs": [
    {
     "name": "stdout",
     "output_type": "stream",
     "text": [
      "My name is Ethan\n"
     ]
    }
   ],
   "source": [
    "name = 'Ethan'\n",
    "print(\"My name is \" + name)"
   ]
  },
  {
   "cell_type": "markdown",
   "id": "197f0179",
   "metadata": {},
   "source": [
    "The example above shows how we can conacatenate strings together to create a different output. Now let's see how we can do it with a string and an integer..."
   ]
  },
  {
   "cell_type": "code",
   "execution_count": 2,
   "id": "bed06e74",
   "metadata": {
    "scrolled": true
   },
   "outputs": [
    {
     "ename": "TypeError",
     "evalue": "can only concatenate str (not \"int\") to str",
     "output_type": "error",
     "traceback": [
      "\u001b[1;31m---------------------------------------------------------------------------\u001b[0m",
      "\u001b[1;31mTypeError\u001b[0m                                 Traceback (most recent call last)",
      "Cell \u001b[1;32mIn[2], line 1\u001b[0m\n\u001b[1;32m----> 1\u001b[0m \u001b[38;5;28mprint\u001b[39m(\u001b[38;5;124m\"\u001b[39m\u001b[38;5;124mMy age is \u001b[39m\u001b[38;5;124m\"\u001b[39m \u001b[38;5;241m+\u001b[39m \u001b[38;5;241m20\u001b[39m)\n",
      "\u001b[1;31mTypeError\u001b[0m: can only concatenate str (not \"int\") to str"
     ]
    }
   ],
   "source": [
    "print(\"My age is \" + 20)"
   ]
  },
  {
   "cell_type": "markdown",
   "id": "ab1d683a",
   "metadata": {},
   "source": [
    "Looking at the output, can you see what has happened here... \n",
    "\n",
    "We can only concatentate strings together - but how do we add an integer into the sentence?"
   ]
  },
  {
   "cell_type": "code",
   "execution_count": 3,
   "id": "7103d29a",
   "metadata": {},
   "outputs": [
    {
     "data": {
      "text/plain": [
       "str"
      ]
     },
     "execution_count": 3,
     "metadata": {},
     "output_type": "execute_result"
    }
   ],
   "source": [
    "age = 20\n",
    "age_str = str(age)\n",
    "type(age_str)"
   ]
  },
  {
   "cell_type": "code",
   "execution_count": 4,
   "id": "f128a2dd",
   "metadata": {
    "scrolled": true
   },
   "outputs": [
    {
     "name": "stdout",
     "output_type": "stream",
     "text": [
      "My age is 20\n"
     ]
    }
   ],
   "source": [
    "print(\"My age is \" + age_str)"
   ]
  },
  {
   "cell_type": "markdown",
   "id": "50326e3d",
   "metadata": {},
   "source": [
    "To concatentate we've casted the integer 20 into a string and then concatenated it to the string \"My age is\"! \n",
    "\n",
    "What is casting - let's take a further look into the process and use cases of type casting."
   ]
  },
  {
   "cell_type": "markdown",
   "id": "462feb8a",
   "metadata": {},
   "source": [
    "## Type casting & the ```input()``` function in more detail"
   ]
  },
  {
   "cell_type": "markdown",
   "id": "37b408e7",
   "metadata": {},
   "source": [
    "Type casting is the process of changing the data type of a value for example from a integer to a float. It is done using a casting function depending on the type you want to cast to:"
   ]
  },
  {
   "cell_type": "code",
   "execution_count": 5,
   "id": "4cc6e1eb",
   "metadata": {
    "scrolled": true
   },
   "outputs": [
    {
     "name": "stdout",
     "output_type": "stream",
     "text": [
      "<class 'str'> <class 'int'> <class 'bool'> <class 'float'>\n"
     ]
    }
   ],
   "source": [
    "example_1 = type(str(1)) # int -> string\n",
    "example_2 = type(int(\"1\")) #string -> int\n",
    "example_3 = type(bool(\"True\")) #string -> boolean\n",
    "example_4 = type(float(1)) #int -> float\n",
    "\n",
    "print(example_1, example_2, example_3, example_4)"
   ]
  },
  {
   "cell_type": "markdown",
   "id": "a9a0bda0",
   "metadata": {},
   "source": [
    "As we can see from the printed classes and the code snippet, we have access to numerous casting functions to change the types of variables - if they're compatible."
   ]
  },
  {
   "cell_type": "markdown",
   "id": "bc56fe74",
   "metadata": {},
   "source": [
    "By default, the ```input()``` function returns a string. For the cell below, enter in the value ```6``` for the sake of this example!"
   ]
  },
  {
   "cell_type": "code",
   "execution_count": 10,
   "id": "a18e9533",
   "metadata": {},
   "outputs": [
    {
     "name": "stdout",
     "output_type": "stream",
     "text": [
      "3\n"
     ]
    }
   ],
   "source": [
    "random_number = input()"
   ]
  },
  {
   "cell_type": "code",
   "execution_count": 11,
   "id": "594c555a",
   "metadata": {
    "scrolled": true
   },
   "outputs": [
    {
     "data": {
      "text/plain": [
       "str"
      ]
     },
     "execution_count": 11,
     "metadata": {},
     "output_type": "execute_result"
    }
   ],
   "source": [
    "type(random_number)"
   ]
  },
  {
   "cell_type": "markdown",
   "id": "c6f097a8",
   "metadata": {},
   "source": [
    "This means that when we pass in an integer as an input we'll have to cast it to the correct data type; into an integer. Casting is the process of change compatable values into antoher data type e.g. 3 as an integer can be casted to a float. "
   ]
  },
  {
   "cell_type": "code",
   "execution_count": 12,
   "id": "0d12731d",
   "metadata": {},
   "outputs": [
    {
     "data": {
      "text/plain": [
       "int"
      ]
     },
     "execution_count": 12,
     "metadata": {},
     "output_type": "execute_result"
    }
   ],
   "source": [
    "random_number2 = 42\n",
    "type(random_number2)"
   ]
  },
  {
   "cell_type": "code",
   "execution_count": 13,
   "id": "4de04d80",
   "metadata": {},
   "outputs": [
    {
     "data": {
      "text/plain": [
       "float"
      ]
     },
     "execution_count": 13,
     "metadata": {},
     "output_type": "execute_result"
    }
   ],
   "source": [
    "casted_random_number = float(random_number2)\n",
    "type(casted_random_number)"
   ]
  },
  {
   "cell_type": "code",
   "execution_count": 14,
   "id": "df97cbf8",
   "metadata": {
    "scrolled": true
   },
   "outputs": [
    {
     "name": "stdout",
     "output_type": "stream",
     "text": [
      "42.0\n"
     ]
    }
   ],
   "source": [
    "print(casted_random_number)"
   ]
  },
  {
   "cell_type": "markdown",
   "id": "0193ea44",
   "metadata": {},
   "source": [
    "As you can see casting ```42``` into a float yields ```42.0```. Do note that casting between some data types won't work for example casting a integer to a string:"
   ]
  },
  {
   "cell_type": "code",
   "execution_count": 15,
   "id": "e0a14109",
   "metadata": {},
   "outputs": [
    {
     "ename": "ValueError",
     "evalue": "invalid literal for int() with base 10: 'Hello!'",
     "output_type": "error",
     "traceback": [
      "\u001b[1;31m---------------------------------------------------------------------------\u001b[0m",
      "\u001b[1;31mValueError\u001b[0m                                Traceback (most recent call last)",
      "Cell \u001b[1;32mIn[15], line 2\u001b[0m\n\u001b[0;32m      1\u001b[0m test_string \u001b[38;5;241m=\u001b[39m \u001b[38;5;124m\"\u001b[39m\u001b[38;5;124mHello!\u001b[39m\u001b[38;5;124m\"\u001b[39m\n\u001b[1;32m----> 2\u001b[0m casted_test_string \u001b[38;5;241m=\u001b[39m \u001b[38;5;28mint\u001b[39m(test_string)\n",
      "\u001b[1;31mValueError\u001b[0m: invalid literal for int() with base 10: 'Hello!'"
     ]
    }
   ],
   "source": [
    "test_string = \"Hello!\"\n",
    "casted_test_string = int(test_string)"
   ]
  },
  {
   "cell_type": "markdown",
   "id": "9614a256",
   "metadata": {},
   "source": [
    "As you can see from the error when running the above cell, we can't cast a the string 'Hello' into an integer as it isn't a whole, numerical value."
   ]
  },
  {
   "cell_type": "markdown",
   "id": "89a96d28",
   "metadata": {},
   "source": [
    "## Functions, loops and conditional statements\n",
    "\n",
    "The examples we have played around with above, show basic function calls... but how do we define and build our own functions?"
   ]
  },
  {
   "cell_type": "code",
   "execution_count": 16,
   "id": "be8b8143",
   "metadata": {},
   "outputs": [],
   "source": [
    "def add_two_numbers(a, b):\n",
    "    \"\"\"\n",
    "    A function that adds two numbers together.\n",
    "\n",
    "    Parameters\n",
    "    ----------\n",
    "    a : int\n",
    "        The first number to add.\n",
    "    b : int\n",
    "        The second number to add.\n",
    "    \"\"\"\n",
    "    return a + b"
   ]
  },
  {
   "cell_type": "markdown",
   "id": "ce974e6e",
   "metadata": {},
   "source": [
    "Above we have defined our own function, albeit a very simple one. It's best practice to add a docstring to the function to aid with readability, this should describe the core behaviour, any parameters and also any returns - ensuring to include the types."
   ]
  },
  {
   "cell_type": "code",
   "execution_count": 17,
   "id": "aa4085d7",
   "metadata": {},
   "outputs": [
    {
     "name": "stdout",
     "output_type": "stream",
     "text": [
      "3\n",
      "7\n",
      "9\n",
      "11\n",
      "13\n",
      "15\n",
      "17\n",
      "19\n"
     ]
    }
   ],
   "source": [
    "for i in range(1, 10): #Define a for loop using the range function.\n",
    "    if i == 2: #Define an if statement.\n",
    "        continue #Skip the current iteration if i is equal to 2.\n",
    "    print(add_two_numbers(i, i+1)) #Call the add_two_numbers function and print the result incrementally."
   ]
  },
  {
   "cell_type": "markdown",
   "id": "d5e42f4a",
   "metadata": {},
   "source": [
    "Let's break down the snippet above...\n",
    "* We have defined a for loop which will loop through the interable 'i',\n",
    "* When 'i' is equal to 2, the loop will skip that iteration - this is captured in the if statement and executed by the continue statement\n",
    "* When 'i' is not equal to 2, the loop will execute the core behaviour which is adding 'i' to 'i+1' at that iteration.\n",
    "\n",
    "For example, we should expect the output 7 when 'i' is equal to 3"
   ]
  },
  {
   "cell_type": "markdown",
   "id": "cb122b17",
   "metadata": {},
   "source": [
    "## Challenge time!\n",
    "\n",
    "Build a calculator, breaking down the core behaviours into individual functions and adhering to the best practices covered in the content!"
   ]
  }
 ],
 "metadata": {
  "kernelspec": {
   "display_name": "Python 3 (ipykernel)",
   "language": "python",
   "name": "python3"
  },
  "language_info": {
   "codemirror_mode": {
    "name": "ipython",
    "version": 3
   },
   "file_extension": ".py",
   "mimetype": "text/x-python",
   "name": "python",
   "nbconvert_exporter": "python",
   "pygments_lexer": "ipython3",
   "version": "3.11.4"
  }
 },
 "nbformat": 4,
 "nbformat_minor": 5
}
